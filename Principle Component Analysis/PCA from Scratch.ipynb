{
 "cells": [
  {
   "cell_type": "markdown",
   "id": "18ad7843",
   "metadata": {},
   "source": [
    "# Implementing Principle Component Analysis (PCA) from Scratch"
   ]
  },
  {
   "cell_type": "markdown",
   "id": "23ab3dd3",
   "metadata": {},
   "source": []
  }
 ],
 "metadata": {
  "language_info": {
   "name": "python"
  }
 },
 "nbformat": 4,
 "nbformat_minor": 5
}
