{
 "cells": [
  {
   "cell_type": "markdown",
   "id": "ae4f9b89-da5c-4df7-8f8f-e97afb61cac4",
   "metadata": {},
   "source": [
    "## Implementing Linear Regression from Scratch"
   ]
  },
  {
   "cell_type": "code",
   "execution_count": 2,
   "id": "ffdeaa71-0cd1-4813-aa0c-017ecab4341b",
   "metadata": {},
   "outputs": [],
   "source": [
    "import numpy as np"
   ]
  },
  {
   "cell_type": "markdown",
   "id": "427418a1-6b3a-4f9f-9a4b-0c355110ef00",
   "metadata": {},
   "source": [
    "<b>Linear Regression:</b> Y = wX + b <br>\n",
    "\n",
    "Y -> Dependent Variable, X -> Independent Variable <br>\n",
    "w -> weight, b -> bias"
   ]
  },
  {
   "cell_type": "markdown",
   "id": "12ad2f28-8f57-4ef9-937f-7c72d11a27be",
   "metadata": {},
   "source": [
    "<b>Gradient Descent:</b> An optimization algorithm used for minimizing the loss function in various machine learning algorithms. <br>\n",
    "It is used for updating the parameters of the learning model.\n",
    "<br>\n",
    "\n",
    "w = w - α * dw\n",
    "<br>\n",
    "b = b - α * db"
   ]
  },
  {
   "cell_type": "code",
   "execution_count": 5,
   "id": "855288df-b7ba-4563-b8fb-7a05b34d4150",
   "metadata": {},
   "outputs": [],
   "source": [
    "class Linear_Regression():\n",
    "    \"\"\"\n",
    "        Linear Regression: Linear regression is a statistical method used to model the relationship between a dependent variable and one or more independent variables.\n",
    "        \n",
    "        Parameters\n",
    "        ----------\n",
    "        learning_rate: A hyperparameter that controls how quickly a model converges to a solution.\n",
    "        no_of_iterations: Number of times the model has processed every example in the training set.\n",
    "        \n",
    "    \"\"\"\n",
    "    # Initiating the Hyperparameters\n",
    "    def __init__(self, learning_rate, no_of_iterations):   \n",
    "        self.learning_rate = learning_rate\n",
    "        self.no_of_iterations = no_of_iterations\n",
    "\n",
    "    def fit(self, X, Y):\n",
    "\n",
    "        # number of training examples and number of features\n",
    "        self.m, self.n = X.shape # Number of rows and columns\n",
    "\n",
    "        # initiating the weight and bias -> slope and intercept\n",
    "        self.weight = np.zeros(self.n) # Weight will be a matrix\n",
    "        self.bias = 0\n",
    "\n",
    "        self.X = X\n",
    "        self.Y = Y\n",
    "        \n",
    "        # Implementing Gradient Descent\n",
    "        for i in range(self.no_of_iterations):\n",
    "            self.update_weights()\n",
    "    \n",
    "   \n",
    "    def update_weights(self):\n",
    "\n",
    "        Y_prediction = self.predict(self.X)\n",
    "\n",
    "        # Calculating gradients\n",
    "        dW = - (2 * (self.X.T).dot(self.Y - Y_prediction)) / self.m\n",
    "\n",
    "        dB = - 2 * np.sum(self.Y - Y_prediction) / self.m\n",
    "\n",
    "        # Updating the weights\n",
    "        self.weight = self.weight - self.learning_rate * dW\n",
    "        self.bias = self.bias - self.learning_rate * dB\n",
    "    \n",
    "    \n",
    "    def predict(self, X):\n",
    "\n",
    "        return X.dot(self.weight) + self.bias # y = wx + b\n",
    "\n",
    "    # This will run till we get to the convergance point which is the global minimum."
   ]
  },
  {
   "cell_type": "markdown",
   "id": "23bfb020-b66c-4bae-9d5d-630408ac2235",
   "metadata": {},
   "source": [
    "### Workflow of Linear Regression Model: \n",
    "  1. Set Learning rate(α) & Number of Iterations; initiate random weight and bias value.\n",
    "  2. Build Linear Regression Equation (y = wx + b)\n",
    "  3. Find the \"y prediction\" value for given x value for the corresponding weight & bias.\n",
    "  4. Check the loss function for these parameter values. (difference between \"y prediction\" & \"true y\")\n",
    "  5. Update the parameter values using Gradient Descent. (new weight and new bias values)\n",
    "  6. Repeat Steps 3, 4, 5 till we get minimum Loss function. "
   ]
  },
  {
   "cell_type": "markdown",
   "id": "540cbf40-c1ec-4aa6-a2b2-d8bb31764008",
   "metadata": {},
   "source": [
    "<b> Finally we will get the best model (best weight & bias value) as it has minimum Loss function.</b>"
   ]
  },
  {
   "cell_type": "markdown",
   "id": "a0fba016-62e1-444a-9daf-8c37ca3bc9c9",
   "metadata": {},
   "source": [
    "#### Importing Dependancies"
   ]
  },
  {
   "cell_type": "code",
   "execution_count": 9,
   "id": "765b2a44-3d74-46fd-8b5a-477310afeb71",
   "metadata": {},
   "outputs": [],
   "source": [
    "import pandas as pd\n",
    "import numpy as np\n",
    "import matplotlib.pyplot as plt\n",
    "from sklearn.model_selection import train_test_split"
   ]
  },
  {
   "cell_type": "markdown",
   "id": "bd7b9d55-db46-410a-98a8-9b75753f0ab3",
   "metadata": {},
   "source": [
    "#### Data Pre-Processing"
   ]
  },
  {
   "cell_type": "code",
   "execution_count": 11,
   "id": "c5f9e5a8-c36e-4f24-b65d-69089c7c7c92",
   "metadata": {},
   "outputs": [],
   "source": [
    "data = pd.read_csv(\"Datasets/salary_data.csv\")"
   ]
  },
  {
   "cell_type": "code",
   "execution_count": 12,
   "id": "64f4ec95-3c99-4da7-a81d-a90ddcd5b529",
   "metadata": {},
   "outputs": [
    {
     "data": {
      "text/html": [
       "<div>\n",
       "<style scoped>\n",
       "    .dataframe tbody tr th:only-of-type {\n",
       "        vertical-align: middle;\n",
       "    }\n",
       "\n",
       "    .dataframe tbody tr th {\n",
       "        vertical-align: top;\n",
       "    }\n",
       "\n",
       "    .dataframe thead th {\n",
       "        text-align: right;\n",
       "    }\n",
       "</style>\n",
       "<table border=\"1\" class=\"dataframe\">\n",
       "  <thead>\n",
       "    <tr style=\"text-align: right;\">\n",
       "      <th></th>\n",
       "      <th>YearsExperience</th>\n",
       "      <th>Salary</th>\n",
       "    </tr>\n",
       "  </thead>\n",
       "  <tbody>\n",
       "    <tr>\n",
       "      <th>0</th>\n",
       "      <td>1.1</td>\n",
       "      <td>39343</td>\n",
       "    </tr>\n",
       "    <tr>\n",
       "      <th>1</th>\n",
       "      <td>1.3</td>\n",
       "      <td>46205</td>\n",
       "    </tr>\n",
       "    <tr>\n",
       "      <th>2</th>\n",
       "      <td>1.5</td>\n",
       "      <td>37731</td>\n",
       "    </tr>\n",
       "    <tr>\n",
       "      <th>3</th>\n",
       "      <td>2.0</td>\n",
       "      <td>43525</td>\n",
       "    </tr>\n",
       "    <tr>\n",
       "      <th>4</th>\n",
       "      <td>2.2</td>\n",
       "      <td>39891</td>\n",
       "    </tr>\n",
       "  </tbody>\n",
       "</table>\n",
       "</div>"
      ],
      "text/plain": [
       "   YearsExperience  Salary\n",
       "0              1.1   39343\n",
       "1              1.3   46205\n",
       "2              1.5   37731\n",
       "3              2.0   43525\n",
       "4              2.2   39891"
      ]
     },
     "execution_count": 12,
     "metadata": {},
     "output_type": "execute_result"
    }
   ],
   "source": [
    "data.head()"
   ]
  },
  {
   "cell_type": "code",
   "execution_count": 13,
   "id": "52531552-80da-482a-b1c5-1039ea973c4f",
   "metadata": {},
   "outputs": [
    {
     "data": {
      "text/plain": [
       "(30, 2)"
      ]
     },
     "execution_count": 13,
     "metadata": {},
     "output_type": "execute_result"
    }
   ],
   "source": [
    "# Number of Rows and Columns\n",
    "data.shape"
   ]
  },
  {
   "cell_type": "code",
   "execution_count": 14,
   "id": "0c3cfc36-c882-4b39-9231-b5f469a6e79f",
   "metadata": {},
   "outputs": [
    {
     "data": {
      "text/plain": [
       "YearsExperience    0\n",
       "Salary             0\n",
       "dtype: int64"
      ]
     },
     "execution_count": 14,
     "metadata": {},
     "output_type": "execute_result"
    }
   ],
   "source": [
    "# Checking for missing values\n",
    "data.isnull().sum()"
   ]
  },
  {
   "cell_type": "markdown",
   "id": "b66fd995-2bfc-4b87-ae4b-09366a94d836",
   "metadata": {},
   "source": [
    "#### Splitting the feature and target variable"
   ]
  },
  {
   "cell_type": "code",
   "execution_count": 16,
   "id": "b792e044-3177-4d8d-9fec-b20ed6757986",
   "metadata": {},
   "outputs": [],
   "source": [
    "X = data.iloc[:, :-1].values\n",
    "Y = data.iloc[:, 1].values"
   ]
  },
  {
   "cell_type": "code",
   "execution_count": 17,
   "id": "7ec321e9-baec-40ee-a53b-dbd48ad104d4",
   "metadata": {},
   "outputs": [
    {
     "name": "stdout",
     "output_type": "stream",
     "text": [
      "[ 39343  46205  37731  43525  39891  56642  60150  54445  64445  57189\n",
      "  63218  55794  56957  57081  61111  67938  66029  83088  81363  93940\n",
      "  91738  98273 101302 113812 109431 105582 116969 112635 122391 121872]\n"
     ]
    }
   ],
   "source": [
    "print(Y)"
   ]
  },
  {
   "cell_type": "code",
   "execution_count": 18,
   "id": "15ca2cfd-ca45-40f1-8223-e5dbf8577498",
   "metadata": {},
   "outputs": [
    {
     "name": "stdout",
     "output_type": "stream",
     "text": [
      "[[ 1.1]\n",
      " [ 1.3]\n",
      " [ 1.5]\n",
      " [ 2. ]\n",
      " [ 2.2]\n",
      " [ 2.9]\n",
      " [ 3. ]\n",
      " [ 3.2]\n",
      " [ 3.2]\n",
      " [ 3.7]\n",
      " [ 3.9]\n",
      " [ 4. ]\n",
      " [ 4. ]\n",
      " [ 4.1]\n",
      " [ 4.5]\n",
      " [ 4.9]\n",
      " [ 5.1]\n",
      " [ 5.3]\n",
      " [ 5.9]\n",
      " [ 6. ]\n",
      " [ 6.8]\n",
      " [ 7.1]\n",
      " [ 7.9]\n",
      " [ 8.2]\n",
      " [ 8.7]\n",
      " [ 9. ]\n",
      " [ 9.5]\n",
      " [ 9.6]\n",
      " [10.3]\n",
      " [10.5]]\n"
     ]
    }
   ],
   "source": [
    "print(X)"
   ]
  },
  {
   "cell_type": "markdown",
   "id": "f318cedd-a799-465b-80dd-32750eddadc8",
   "metadata": {},
   "source": [
    "### Splitting into training and testing data"
   ]
  },
  {
   "cell_type": "code",
   "execution_count": 20,
   "id": "0bec1da9-a231-4587-99d4-013cacb9bff5",
   "metadata": {},
   "outputs": [],
   "source": [
    "X_train, X_test, Y_train, Y_test = train_test_split(X, Y, random_state = 2, test_size = 0.33)"
   ]
  },
  {
   "cell_type": "markdown",
   "id": "092d7f29-b936-4e5a-9ef3-b3ba709e00a6",
   "metadata": {},
   "source": [
    "### Training the Linear Regression Model"
   ]
  },
  {
   "cell_type": "code",
   "execution_count": 22,
   "id": "d75638bb-d72f-44f1-8090-c5cc8de93a00",
   "metadata": {},
   "outputs": [],
   "source": [
    "model = Linear_Regression(learning_rate = 0.02, no_of_iterations = 1000)"
   ]
  },
  {
   "cell_type": "code",
   "execution_count": 23,
   "id": "a56a6cfe-270d-475a-b9a7-1b07f2f5c470",
   "metadata": {},
   "outputs": [],
   "source": [
    "model.fit(X_train, Y_train)"
   ]
  },
  {
   "cell_type": "markdown",
   "id": "21c61dc2-d9f4-4b23-9473-211cd6a146ab",
   "metadata": {},
   "source": [
    "### Predicting value for Test data"
   ]
  },
  {
   "cell_type": "code",
   "execution_count": 39,
   "id": "1e68ce69-b88e-40d7-8f11-822c62094b0a",
   "metadata": {},
   "outputs": [],
   "source": [
    "test_predicition = model.predict(X_test)"
   ]
  },
  {
   "cell_type": "markdown",
   "id": "274f81c4-4aff-4cb5-91ae-e8b314f97d71",
   "metadata": {},
   "source": [
    "### Visualizing the predicted values and actual values"
   ]
  },
  {
   "cell_type": "code",
   "execution_count": 44,
   "id": "af08bc59-6b44-4163-ac91-53aa0a03c943",
   "metadata": {},
   "outputs": [
    {
     "data": {
      "image/png": "[encoded data removed]",
      "text/plain": [
       "<Figure size 640x480 with 1 Axes>"
      ]
     },
     "metadata": {},
     "output_type": "display_data"
    }
   ],
   "source": [
    "plt.scatter(X_test, Y_test, color = 'red')\n",
    "plt.plot(X_test, test_predicition, color = 'blue')\n",
    "plt.title(\"Experience vs Salary Scatter Plot\")\n",
    "plt.xlabel(\"Work Experince\")\n",
    "plt.ylabel(\"Salary\")\n",
    "plt.show()"
   ]
  },
  {
   "cell_type": "code",
   "execution_count": null,
   "id": "125b3a56-549a-407a-9b06-bc2a6cab2235",
   "metadata": {},
   "outputs": [],
   "source": []
  }
 ],
 "metadata": {
  "kernelspec": {
   "display_name": "Python 3 (ipykernel)",
   "language": "python",
   "name": "python3"
  },
  "language_info": {
   "codemirror_mode": {
    "name": "ipython",
    "version": 3
   },
   "file_extension": ".py",
   "mimetype": "text/x-python",
   "name": "python",
   "nbconvert_exporter": "python",
   "pygments_lexer": "ipython3",
   "version": "3.12.4"
  }
 },
 "nbformat": 4,
 "nbformat_minor": 5
}
